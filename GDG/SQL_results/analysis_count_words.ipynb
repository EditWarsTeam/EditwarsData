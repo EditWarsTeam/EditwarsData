{
 "cells": [
  {
   "cell_type": "code",
   "execution_count": 1,
   "metadata": {
    "pycharm": {
     "name": "#%%\n"
    }
   },
   "outputs": [],
   "source": [
    "import pandas as pd\n",
    "df = pd.read_json('result_data.json')"
   ]
  },
  {
   "cell_type": "code",
   "execution_count": 2,
   "metadata": {
    "pycharm": {
     "name": "#%%\n"
    }
   },
   "outputs": [],
   "source": [
    "from datetime import datetime \n",
    "\n",
    "def change_time(dt):\n",
    "    return datetime.fromtimestamp(dt//1000)\n",
    "\n",
    "df['fetchdate_orig'] = df['fetchdate_orig'].apply(change_time)\n",
    "df['fetchdate_check'] = df['fetchdate_check'].apply(change_time)"
   ]
  },
  {
   "cell_type": "code",
   "execution_count": 3,
   "metadata": {
    "pycharm": {
     "name": "#%%\n"
    }
   },
   "outputs": [],
   "source": [
    "df_copy = df"
   ]
  },
  {
   "cell_type": "code",
   "execution_count": 10,
   "metadata": {
    "pycharm": {
     "name": "#%%\n"
    }
   },
   "outputs": [
    {
     "name": "stdout",
     "output_type": "stream",
     "text": [
      "<class 'pandas.core.frame.DataFrame'>\n",
      "Int64Index: 5040743 entries, 0 to 5040742\n",
      "Data columns (total 9 columns):\n",
      " #   Column            Dtype         \n",
      "---  ------            -----         \n",
      " 0   fetchdate_orig    datetime64[ns]\n",
      " 1   fetchdate_check   datetime64[ns]\n",
      " 2   status            object        \n",
      " 3   page_title        object        \n",
      " 4   page_domain_root  object        \n",
      " 5   page_url          object        \n",
      " 6   changes           object        \n",
      " 7   type              object        \n",
      " 8   country           object        \n",
      "dtypes: datetime64[ns](2), object(7)\n",
      "memory usage: 384.6+ MB\n"
     ]
    }
   ],
   "source": [
    "df.info()"
   ]
  },
  {
   "cell_type": "code",
   "execution_count": 1,
   "metadata": {
    "pycharm": {
     "name": "#%%\n"
    }
   },
   "outputs": [],
   "source": [
    "import numpy as np\n",
    "from collections import Counter\n",
    "import pymorphy2\n",
    "import pandas as pd\n",
    "import json\n",
    "from datetime import datetime\n",
    "from datetime import timedelta\n",
    "import matplotlib.pyplot as plt\n",
    "import re\n",
    "from tqdm import tqdm\n",
    "import time\n"
   ]
  },
  {
   "cell_type": "code",
   "execution_count": 2,
   "metadata": {
    "pycharm": {
     "name": "#%%\n"
    }
   },
   "outputs": [],
   "source": [
    "morph = pymorphy2.MorphAnalyzer()\n",
    "\n",
    "\"\"\"Function to convert words to initial form\"\"\"\n",
    "def normal_rus(w):\n",
    "    global morph\n",
    "    return morph.parse(w)[0].normal_form"
   ]
  },
  {
   "cell_type": "code",
   "execution_count": 13,
   "metadata": {
    "pycharm": {
     "name": "#%%\n"
    }
   },
   "outputs": [
    {
     "name": "stderr",
     "output_type": "stream",
     "text": [
      "Loading: 100%|██████████| 120/120 [4:46:06<00:00, 143.06s/it]\n"
     ]
    }
   ],
   "source": [
    "\"\"\"Create list of stopwords\"\"\"\n",
    "stopwords = [\"и\", \"в\", \"во\", \"не\", \"что\", \"он\", \"на\", \"я\", \"с\", \"со\", \"как\", \"а\", \"то\", \"все\", \"она\", \"так\", \"его\", \n",
    "\"но\", \"да\", \"ты\", \"к\", \"у\", \"же\", \"вы\", \"за\", \"бы\", \"по\", \"только\", \"ее\", \"мне\", \"было\", \"вот\", \"от\", \"меня\", \"еще\", \n",
    "\"нет\", \"о\", \"из\", \"ему\", \"теперь\", \"когда\", \"даже\", \"ну\", \"вдруг\", \"ли\", \"если\", \"уже\", \"или\", \"ни\", \"быть\", \"был\", \n",
    "\"него\", \"до\", \"вас\", \"нибудь\", \"опять\", \"уж\", \"вам\", \"ведь\", \"там\", \"потом\", \"себя\", \"ничего\", \"ей\", \"может\", \"они\", \n",
    "\"тут\", \"где\", \"есть\", \"надо\", \"ней\", \"для\", \"мы\", \"тебя\", \"их\", \"чем\", \"была\", \"сам\", \"чтоб\", \"без\", \"будто\", \"чего\", \n",
    "\"раз\", \"тоже\", \"себе\", \"под\", \"будет\", \"ж\", \"тогда\", \"кто\", \"этот\", \"того\", \"потому\", \"этого\", \"какой\", \"совсем\", \n",
    "\"ним\", \"здесь\", \"этом\", \"один\", \"почти\", \"мой\", \"тем\", \"чтобы\", \"нее\", \"сейчас\", \"были\", \"куда\", \"зачем\", \"всех\", \n",
    "\"никогда\", \"можно\", \"при\", \"наконец\", \"два\", \"об\", \"другой\", \"хоть\", \"после\", \"над\", \"больше\", \"тот\", \"через\", \"эти\", \n",
    "\"нас\", \"про\", \"всего\", \"них\", \"какая\", \"много\", \"разве\", \"три\", \"эту\", \"моя\", \"впрочем\", \"хорошо\", \"свою\", \"этой\", \n",
    "\"перед\", \"иногда\", \"лучше\", \"чуть\", \"том\", \"нельзя\", \"такой\", \"им\", \"более\", \"всегда\", \"конечно\", \"всю\", \"между\", 'иза']\n",
    "\n",
    "date = datetime.strptime(\"01-01-2022\", \"%d-%m-%Y\") # start day to analyse and vizualise wordcloud\n",
    "csv = 'date, word, count\\n' # structure for csv-file\n",
    "\n",
    "\n",
    "\"\"\"Iterate over each day for a weekly period (total 120 days)\"\"\"\n",
    "\n",
    "with open('analysis_count_words.csv', 'w') as file:\n",
    "    for day in tqdm(range(120), desc = 'Loading'):\n",
    "        cloud_week = df[(df['fetchdate_check'] >= date) & (df['fetchdate_check'] < date + timedelta(days=1))]\n",
    "        text = \" \".join(review for review in cloud_week.page_title)\n",
    "        texts_lower_case = text.lower()\n",
    "        only_words_text = re.sub('[^А-яЁёA-z]', ' ', texts_lower_case)\n",
    "        texts_splitted = only_words_text.split()\n",
    "        without_sw = [text for text in texts_splitted if text not in stopwords]\n",
    "        c_dict = Counter()\n",
    "        for w in without_sw:\n",
    "            n = normal_rus(w)\n",
    "            c_dict[n] += 1\n",
    "        # generate and save wordclouds\n",
    "        date_name = date.strftime('%d-%m-%Y')\n",
    "        common = c_dict.most_common(100)\n",
    "        if len(common) != 0:\n",
    "            # save file\n",
    "            for value in common:\n",
    "                csv += (date_name + ', ' + value[0] + ', ' + str(value[1]) + '\\n')\n",
    "        date += timedelta(days=1)\n",
    "        \n",
    "    file.write(csv)"
   ]
  }
 ],
 "metadata": {
  "interpreter": {
   "hash": "88fe4156f3a9a8eacf0532f7d774d1f21b1e7d5e48e7986ebb4c3e1e7d62aaab"
  },
  "kernelspec": {
   "display_name": "Python 3.8.9 64-bit ('venv': venv)",
   "name": "python3"
  },
  "language_info": {
   "codemirror_mode": {
    "name": "ipython",
    "version": 3
   },
   "file_extension": ".py",
   "mimetype": "text/x-python",
   "name": "python",
   "nbconvert_exporter": "python",
   "pygments_lexer": "ipython3",
   "version": "3.8.9"
  },
  "orig_nbformat": 4
 },
 "nbformat": 4,
 "nbformat_minor": 2
}