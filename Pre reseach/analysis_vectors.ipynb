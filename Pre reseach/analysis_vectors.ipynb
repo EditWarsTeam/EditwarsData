{
 "cells": [
  {
   "cell_type": "code",
   "execution_count": 1,
   "metadata": {
    "collapsed": true,
    "pycharm": {
     "name": "#%%\n"
    }
   },
   "outputs": [],
   "source": [
    "import pandas as pd\n",
    "\n",
    "df = pd.read_json('result_data.json')"
   ]
  },
  {
   "cell_type": "code",
   "execution_count": 2,
   "outputs": [],
   "source": [
    "from datetime import datetime\n",
    "\n",
    "def change_time(dt):\n",
    "    return datetime.fromtimestamp(dt//1000)\n",
    "\n",
    "df['fetchdate_orig'] = df['fetchdate_orig'].apply(change_time)\n",
    "df['fetchdate_check'] = df['fetchdate_check'].apply(change_time)"
   ],
   "metadata": {
    "collapsed": false,
    "pycharm": {
     "name": "#%%\n"
    }
   }
  },
  {
   "cell_type": "code",
   "execution_count": 3,
   "outputs": [],
   "source": [
    "start_date = datetime.strptime(\"24-02-2022\", \"%d-%m-%Y\")\n",
    "end_date = datetime.strptime(\"24-03-2022\", \"%d-%m-%Y\")\n",
    "df_war = df[(df['fetchdate_check'] >= start_date) & (df['fetchdate_check'] <= end_date)]"
   ],
   "metadata": {
    "collapsed": false,
    "pycharm": {
     "name": "#%%\n"
    }
   }
  },
  {
   "cell_type": "code",
   "execution_count": 7,
   "outputs": [],
   "source": [
    "df_test = df_war['page_title'].to_frame().reset_index()\n",
    "df_test.drop(['index'], axis=1).to_csv('test.csv')"
   ],
   "metadata": {
    "collapsed": false,
    "pycharm": {
     "name": "#%%\n"
    }
   }
  },
  {
   "cell_type": "code",
   "execution_count": 22,
   "outputs": [],
   "source": [
    "import re\n",
    "import pandas as pd\n",
    "from sklearn.cluster import MiniBatchKMeans\n",
    "from sklearn.feature_extraction.text import TfidfVectorizer\n",
    "from nltk.tokenize import sent_tokenize\n",
    "from nltk.tokenize import word_tokenize\n",
    "from pymorphy2 import MorphAnalyzer\n",
    "import numpy as np\n",
    "import matplotlib.pyplot as plt\n",
    "import nltk\n",
    "nltk.download('punkt')\n",
    "from nltk.corpus import stopwords"
   ],
   "metadata": {
    "collapsed": false,
    "pycharm": {
     "name": "#%%\n"
    }
   }
  },
  {
   "cell_type": "code",
   "execution_count": 24,
   "outputs": [],
   "source": [
    "stopwords = stopwords.words('russian')"
   ],
   "metadata": {
    "collapsed": false,
    "pycharm": {
     "name": "#%%\n"
    }
   }
  },
  {
   "cell_type": "code",
   "execution_count": 25,
   "outputs": [
    {
     "name": "stderr",
     "output_type": "stream",
     "text": [
      "/Users/bobenkom/Desktop/GitHub/venv/lib/python3.8/site-packages/sklearn/feature_extraction/text.py:404: UserWarning: Your stop_words may be inconsistent with your preprocessing. Tokenizing the stop words generated tokens ['большой', 'весь', 'всё', 'ещё', 'мочь', 'нибыть', 'свой', 'хороший', 'это'] not in stop_words.\n",
      "  warnings.warn(\n"
     ]
    }
   ],
   "source": [
    "bad_words = \"[A-Za-z0-9!#$%&'()*+,./:;<=>?@[\\]^_{|}~\\\"\\-]+\"\n",
    "morph = MorphAnalyzer()\n",
    "\n",
    "def token_only(text):\n",
    "    text = re.sub(bad_words,' ',text)\n",
    "    tokens = [word.lower() for sent in sent_tokenize(text) for word in word_tokenize(sent)]\n",
    "    filtered_tokens = []\n",
    "    for token in tokens:\n",
    "        token = token.strip()\n",
    "        token = morph.normal_forms(token)[0]\n",
    "        filtered_tokens.append(token)\n",
    "    return filtered_tokens\n",
    "\n",
    "\n",
    "dfclall = df_test['page_title']\n",
    "stopwords.extend([\"и\", \"в\", \"во\", \"не\", \"что\", \"он\", \"на\", \"я\", \"с\", \"со\", \"как\", \"а\", \"то\", \"все\", \"она\", \"так\", \"его\",\n",
    "\"но\", \"да\", \"ты\", \"к\", \"у\", \"же\", \"вы\", \"за\", \"бы\", \"по\", \"только\", \"ее\", \"мне\", \"было\", \"вот\", \"от\", \"меня\", \"еще\",\n",
    "\"нет\", \"о\", \"из\", \"ему\", \"теперь\", \"когда\", \"даже\", \"ну\", \"вдруг\", \"ли\", \"если\", \"уже\", \"или\", \"ни\", \"быть\", \"был\",\n",
    "\"него\", \"до\", \"вас\", \"нибудь\", \"опять\", \"уж\", \"вам\", \"ведь\", \"там\", \"потом\", \"себя\", \"ничего\", \"ей\", \"может\", \"они\",\n",
    "\"тут\", \"где\", \"есть\", \"надо\", \"ней\", \"для\", \"мы\", \"тебя\", \"их\", \"чем\", \"была\", \"сам\", \"чтоб\", \"без\", \"будто\", \"чего\",\n",
    "\"раз\", \"тоже\", \"себе\", \"под\", \"будет\", \"ж\", \"тогда\", \"кто\", \"этот\", \"того\", \"потому\", \"этого\", \"какой\", \"совсем\",\n",
    "\"ним\", \"здесь\", \"этом\", \"один\", \"почти\", \"мой\", \"тем\", \"чтобы\", \"нее\", \"сейчас\", \"были\", \"куда\", \"зачем\", \"всех\",\n",
    "\"никогда\", \"можно\", \"при\", \"наконец\", \"два\", \"об\", \"другой\", \"хоть\", \"после\", \"над\", \"больше\", \"тот\", \"через\", \"эти\",\n",
    "\"нас\", \"про\", \"всего\", \"них\", \"какая\", \"много\", \"разве\", \"три\", \"эту\", \"моя\", \"впрочем\", \"хорошо\", \"свою\", \"этой\",\n",
    "\"перед\", \"иногда\", \"лучше\", \"чуть\", \"том\", \"нельзя\", \"такой\", \"им\", \"более\", \"всегда\", \"конечно\", \"всю\", \"между\", 'иза'])\n",
    "\n",
    "\n",
    "tfidf_vectorizer = TfidfVectorizer(smooth_idf=True,max_df=0.6,min_df=0.01,max_features=100000,\n",
    "                                   stop_words=stopwords, use_idf=True,tokenizer=token_only, ngram_range=(1,3))\n",
    "tfidf_matrix = tfidf_vectorizer.fit_transform(dfclall)"
   ],
   "metadata": {
    "collapsed": false,
    "pycharm": {
     "name": "#%%\n"
    }
   }
  },
  {
   "cell_type": "code",
   "execution_count": 28,
   "outputs": [
    {
     "data": {
      "text/plain": "<Figure size 432x288 with 1 Axes>",
      "image/png": "[encoded data removed]"
     },
     "metadata": {
      "needs_background": "light"
     },
     "output_type": "display_data"
    }
   ],
   "source": [
    "inertia = []\n",
    "for k in range(100,3000,100):\n",
    "    mbk  = MiniBatchKMeans(n_clusters=k,init='random', random_state=1).fit(tfidf_matrix)\n",
    "    inertia.append(np.sqrt(mbk.inertia_))\n",
    "plt.plot(range(100,3000,100),inertia,marker='s')\n",
    "plt.xlabel('K')\n",
    "plt.ylabel('(C_k)')\n",
    "plt.show()"
   ],
   "metadata": {
    "collapsed": false,
    "pycharm": {
     "name": "#%%\n"
    }
   }
  },
  {
   "cell_type": "code",
   "execution_count": 29,
   "outputs": [],
   "source": [
    "mbk = MiniBatchKMeans(n_clusters=600,init='random').fit(tfidf_matrix)\n",
    "y_kmeansMBK = mbk.predict(tfidf_matrix)\n",
    "Num = []\n",
    "Num = [pt for pt in y_kmeansMBK]\n",
    "df2 = {\"Num_Cluster\": Num}\n",
    "dfMBK = pd.DataFrame(df2)\n",
    "\n",
    "df = pd.concat([df_test,dfMBK], axis=1)"
   ],
   "metadata": {
    "collapsed": false,
    "pycharm": {
     "name": "#%%\n"
    }
   }
  },
  {
   "cell_type": "code",
   "execution_count": 30,
   "outputs": [
    {
     "data": {
      "text/plain": "           index                                         page_title  \\\n0        1682792                        Segezha потеснит фанерщиков   \n1        1682793  Интервью президента Segezha Group Камиля Закирова   \n2        1682794  Интервью руководителя проектов компании Ledine...   \n3        1682795  Статьи автора Алексей Богатырев в журнале \"Лес...   \n4        1682796                          ЛПК остался без стратегии   \n...          ...                                                ...   \n1038144  3872470  Уральский экономист рассказал, как изменятся ц...   \n1038145  3872471  Возле югорского города начался отстрел волков ...   \n1038146  3872472  Депутат считает, что Соцфонд должен контролиро...   \n1038147  3872473  «В Брюсселе говорили, что нужно давать Нобелев...   \n1038148  3872474  CentralAsia: Какие зарубежные компании и бренд...   \n\n         Num_Cluster  \n0                  0  \n1                317  \n2                  8  \n3                  0  \n4                  0  \n...              ...  \n1038144           79  \n1038145            0  \n1038146           52  \n1038147          285  \n1038148          557  \n\n[1038149 rows x 3 columns]",
      "text/html": "<div>\n<style scoped>\n    .dataframe tbody tr th:only-of-type {\n        vertical-align: middle;\n    }\n\n    .dataframe tbody tr th {\n        vertical-align: top;\n    }\n\n    .dataframe thead th {\n        text-align: right;\n    }\n</style>\n<table border=\"1\" class=\"dataframe\">\n  <thead>\n    <tr style=\"text-align: right;\">\n      <th></th>\n      <th>index</th>\n      <th>page_title</th>\n      <th>Num_Cluster</th>\n    </tr>\n  </thead>\n  <tbody>\n    <tr>\n      <th>0</th>\n      <td>1682792</td>\n      <td>Segezha потеснит фанерщиков</td>\n      <td>0</td>\n    </tr>\n    <tr>\n      <th>1</th>\n      <td>1682793</td>\n      <td>Интервью президента Segezha Group Камиля Закирова</td>\n      <td>317</td>\n    </tr>\n    <tr>\n      <th>2</th>\n      <td>1682794</td>\n      <td>Интервью руководителя проектов компании Ledine...</td>\n      <td>8</td>\n    </tr>\n    <tr>\n      <th>3</th>\n      <td>1682795</td>\n      <td>Статьи автора Алексей Богатырев в журнале \"Лес...</td>\n      <td>0</td>\n    </tr>\n    <tr>\n      <th>4</th>\n      <td>1682796</td>\n      <td>ЛПК остался без стратегии</td>\n      <td>0</td>\n    </tr>\n    <tr>\n      <th>...</th>\n      <td>...</td>\n      <td>...</td>\n      <td>...</td>\n    </tr>\n    <tr>\n      <th>1038144</th>\n      <td>3872470</td>\n      <td>Уральский экономист рассказал, как изменятся ц...</td>\n      <td>79</td>\n    </tr>\n    <tr>\n      <th>1038145</th>\n      <td>3872471</td>\n      <td>Возле югорского города начался отстрел волков ...</td>\n      <td>0</td>\n    </tr>\n    <tr>\n      <th>1038146</th>\n      <td>3872472</td>\n      <td>Депутат считает, что Соцфонд должен контролиро...</td>\n      <td>52</td>\n    </tr>\n    <tr>\n      <th>1038147</th>\n      <td>3872473</td>\n      <td>«В Брюсселе говорили, что нужно давать Нобелев...</td>\n      <td>285</td>\n    </tr>\n    <tr>\n      <th>1038148</th>\n      <td>3872474</td>\n      <td>CentralAsia: Какие зарубежные компании и бренд...</td>\n      <td>557</td>\n    </tr>\n  </tbody>\n</table>\n<p>1038149 rows × 3 columns</p>\n</div>"
     },
     "execution_count": 30,
     "metadata": {},
     "output_type": "execute_result"
    }
   ],
   "source": [
    "df"
   ],
   "metadata": {
    "collapsed": false,
    "pycharm": {
     "name": "#%%\n"
    }
   }
  }
 ],
 "metadata": {
  "kernelspec": {
   "display_name": "Python 3",
   "language": "python",
   "name": "python3"
  },
  "language_info": {
   "codemirror_mode": {
    "name": "ipython",
    "version": 2
   },
   "file_extension": ".py",
   "mimetype": "text/x-python",
   "name": "python",
   "nbconvert_exporter": "python",
   "pygments_lexer": "ipython2",
   "version": "2.7.6"
  }
 },
 "nbformat": 4,
 "nbformat_minor": 0
}