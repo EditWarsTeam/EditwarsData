{
 "nbformat": 4,
 "nbformat_minor": 0,
 "metadata": {
  "colab": {
   "provenance": [],
   "collapsed_sections": [],
   "machine_shape": "hm"
  },
  "kernelspec": {
   "name": "python3",
   "display_name": "Python 3"
  },
  "language_info": {
   "name": "python"
  },
  "gpuClass": "standard",
  "accelerator": "GPU"
 },
 "cells": [
  {
   "cell_type": "code",
   "source": [
    "import os\n",
    "import six\n",
    "from google.cloud import translate_v2 as translate\n",
    "import pandas as pd\n",
    "from tqdm import tqdm\n",
    "\n",
    "os.environ[\"GOOGLE_APPLICATION_CREDENTIALS\"]=\"PATH/key.json\" # import your own key from Google Cloud"
   ],
   "metadata": {
    "id": "fdoi1cVBTjHE",
    "pycharm": {
     "name": "#%%\n"
    }
   },
   "execution_count": null,
   "outputs": []
  },
  {
   "cell_type": "code",
   "source": [
    "translate_client = translate.Client()\n",
    "\n",
    "def translates(word):\n",
    "    target_language = 'en' \n",
    "    if isinstance(word, six.binary_type):\n",
    "        word = word.decode(\"utf-8\")\n",
    "    translation = translate_client.translate(word, target_language=target_language)\n",
    "    return (translation['translatedText'])\n",
    "\n",
    "\n",
    "def importfile():\n",
    "    data = pd.read_csv('PATH/network_graph.csv') # import network_graph.csv\n",
    "    countRows = (len(data))\n",
    "    translatedCSV = { \"head\":[], \"text\":[], \"count\": []} \n",
    "    for index, row in tqdm(data.iterrows()):\n",
    "        translatedCSV[\"head\"].append(translates(row[\"head\"]))\n",
    "        translatedCSV[\"text\"].append(translates(row[\"text\"]))\n",
    "        translatedCSV[\"count\"].append(row[\"count\"])\n",
    "    df = pd.DataFrame(data=translatedCSV)\n",
    "    df.to_csv(\"translated_network.csv\")\n",
    "    \n",
    "importfile()"
   ],
   "metadata": {
    "colab": {
     "base_uri": "https://localhost:8080/"
    },
    "id": "Sk07Omf1DKUf",
    "outputId": "ab612524-b4be-44a4-e634-0946bdfbc85f",
    "pycharm": {
     "name": "#%%\n"
    }
   },
   "execution_count": null,
   "outputs": [
    {
     "output_type": "stream",
     "name": "stderr",
     "text": [
      "391111it [14:11:04,  7.11it/s]"
     ]
    }
   ]
  }
 ]
}